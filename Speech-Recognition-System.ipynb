{
 "cells": [
  {
   "cell_type": "code",
   "execution_count": 2,
   "id": "98ec6947-9994-453f-8f12-2f23ad8d943d",
   "metadata": {},
   "outputs": [
    {
     "name": "stdout",
     "output_type": "stream",
     "text": [
      "Collecting SpeechRecognition\n",
      "  Using cached speechrecognition-3.14.3-py3-none-any.whl.metadata (30 kB)\n",
      "Requirement already satisfied: typing-extensions in c:\\users\\hp\\anaconda3\\lib\\site-packages (from SpeechRecognition) (4.11.0)\n",
      "Using cached speechrecognition-3.14.3-py3-none-any.whl (32.9 MB)\n",
      "Installing collected packages: SpeechRecognition\n",
      "Successfully installed SpeechRecognition-3.14.3\n"
     ]
    }
   ],
   "source": [
    "!pip install SpeechRecognition"
   ]
  },
  {
   "cell_type": "code",
   "execution_count": 1,
   "id": "717ccbf3-c0b1-425c-9e9f-3fae9a4c446a",
   "metadata": {},
   "outputs": [
    {
     "name": "stdout",
     "output_type": "stream",
     "text": [
      "🎧 Listening...\n",
      "🧠 Transcribing...\n",
      "\n",
      "📝 Transcribed Text:\n",
      " the still smell of old buildings it takes heat to bring out the order a cold storage find with him Tales of pastor are my favourite is just for food is the hard cross bun\n"
     ]
    }
   ],
   "source": [
    "import speech_recognition as sr\n",
    "\n",
    "# Function to transcribe audio\n",
    "def transcribe_audio(file_path):\n",
    "    recognizer = sr.Recognizer()\n",
    "\n",
    "    with sr.AudioFile(file_path) as source:\n",
    "        print(\"🎧 Listening...\")\n",
    "        audio_data = recognizer.record(source)\n",
    "\n",
    "    try:\n",
    "        print(\"Transcribing...\")\n",
    "        text = recognizer.recognize_google(audio_data)\n",
    "        return text\n",
    "    except sr.UnknownValueError:\n",
    "        return \"Could not understand the audio.\"\n",
    "    except sr.RequestError:\n",
    "        return \"Google API failed. Check your internet.\"\n",
    "\n",
    "# Use your audio file path\n",
    "audio_file = \"sample.wav\"  # Ensure the file exists\n",
    "\n",
    "# Transcribe and print result\n",
    "transcribed_text = transcribe_audio(audio_file)\n",
    "print(\"\\n📝 Transcribed Text:\\n\", transcribed_text)\n"
   ]
  },
  {
   "cell_type": "code",
   "execution_count": null,
   "id": "285339fe-de87-4f4c-9de2-d919f7d9829e",
   "metadata": {},
   "outputs": [],
   "source": []
  }
 ],
 "metadata": {
  "kernelspec": {
   "display_name": "Python 3 (ipykernel)",
   "language": "python",
   "name": "python3"
  },
  "language_info": {
   "codemirror_mode": {
    "name": "ipython",
    "version": 3
   },
   "file_extension": ".py",
   "mimetype": "text/x-python",
   "name": "python",
   "nbconvert_exporter": "python",
   "pygments_lexer": "ipython3",
   "version": "3.12.7"
  }
 },
 "nbformat": 4,
 "nbformat_minor": 5
}
